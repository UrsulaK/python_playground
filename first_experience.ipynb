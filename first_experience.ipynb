{
 "cells": [
  {
   "cell_type": "markdown",
   "metadata": {},
   "source": [
    "My first Jypiter Notebook"
   ]
  },
  {
   "cell_type": "code",
   "execution_count": 1,
   "metadata": {},
   "outputs": [
    {
     "name": "stdout",
     "output_type": "stream",
     "text": [
      "Hello from Jupyter Notebook\n"
     ]
    }
   ],
   "source": [
    "print('Hello from Jupyter Notebook')"
   ]
  },
  {
   "cell_type": "markdown",
   "metadata": {},
   "source": [
    "Now some more python code"
   ]
  },
  {
   "cell_type": "code",
   "execution_count": null,
   "metadata": {},
   "outputs": [
    {
     "name": "stdout",
     "output_type": "stream",
     "text": [
      "A | B | C\n",
      "- | - | -\n",
      "D | E | F\n",
      "- | - | -\n",
      "G | H | J\n",
      "Choose field:a\n",
      "nextTurn:  E\n",
      "x | B | C\n",
      "- | - | -\n",
      "D | o | F\n",
      "- | - | -\n",
      "G | H | J\n",
      "Choose field:b\n",
      "player1 count:  2\n",
      "row_copy value 0:  ['C']\n",
      "nextTurn:  C\n",
      "x | x | o\n",
      "- | - | -\n",
      "D | o | F\n",
      "- | - | -\n",
      "G | H | J\n",
      "Choose field:d\n",
      "player1 count:  2\n",
      "player1 count:  1\n",
      "player1 count:  0\n",
      "player1 count:  1\n",
      "player1 count:  2\n",
      "row_copy value 0:  ['G']\n",
      "nextTurn:  G\n",
      "x | x | o\n",
      "- | - | -\n",
      "x | o | F\n",
      "- | - | -\n",
      "o | H | J\n",
      "Choose field:f\n",
      "player1 count:  2\n",
      "player1 count:  2\n",
      "player1 count:  0\n",
      "player1 count:  1\n",
      "player1 count:  2\n",
      "player1 count:  1\n",
      "player1 count:  1\n",
      "player1 count:  0\n",
      "x | x | o\n",
      "- | - | -\n",
      "x | o | x\n",
      "- | - | -\n",
      "o | H | o\n",
      "Choose field:h\n",
      "GAME OVER\n",
      "x | x | o\n",
      "- | - | -\n",
      "x | o | x\n",
      "- | - | -\n",
      "o | x | o\n",
      "Choose field:d\n",
      "No possible selection\n",
      "x | x | o\n",
      "- | - | -\n",
      "x | o | x\n",
      "- | - | -\n",
      "o | x | o\n",
      "Choose field:g\n",
      "No possible selection\n",
      "x | x | o\n",
      "- | - | -\n",
      "x | o | x\n",
      "- | - | -\n",
      "o | x | o\n",
      "Choose field:a\n",
      "No possible selection\n",
      "x | x | o\n",
      "- | - | -\n",
      "x | o | x\n",
      "- | - | -\n",
      "o | x | o\n"
     ]
    }
   ],
   "source": [
    "import random\n",
    "fields = ['A','B','C','D','E','F','G','H','J']\n",
    "possibleRows = [['A','B','C'],['D','E','F'],['G','H','J'],['A','E','J'],['A','D','G'],['B','E','H'],['C','F','J'],['C','E','G']]\n",
    "player1 = 'x'\n",
    "player2 = 'o'\n",
    "nextTurn = '';\n",
    "def printField():\n",
    "    print(fields[0],'|',fields[1],'|',fields[2])\n",
    "    print('-','|','-','|','-')\n",
    "    print(fields[3],'|',fields[4],'|',fields[5])\n",
    "    print('-','|','-','|','-')    \n",
    "    print(fields[6],'|',fields[7],'|',fields[8])\n",
    "\n",
    "def removeFromList (itemList, item):\n",
    "    while item in itemList: \n",
    "        itemList.remove(item)\n",
    "    return itemList\n",
    "\n",
    "def checkForLastTurn(fields):\n",
    "    fields_copy = list(fields)\n",
    "    fields_copy = removeFromList(fields_copy, player1)\n",
    "    fields_copy = removeFromList(fields_copy, player2)\n",
    "    return fields_copy\n",
    "\n",
    "def setTurnToRow (item, player):\n",
    "    for rowidx in range(len(possibleRows)):\n",
    "        if(item in possibleRows[rowidx]):\n",
    "            possibleRows[rowidx][possibleRows[rowidx].index(item)] = player\n",
    "\n",
    "def findDoubleSets():\n",
    "    nextTurn = ''\n",
    "    for rowidx in range(len(possibleRows)):\n",
    "        row = possibleRows[rowidx]\n",
    "        print('player1 count: ',row.count(player1))\n",
    "        if(row.count(player1) == 2 and not player2 in row):\n",
    "            row_copy = list(row)\n",
    "            row_copy = removeFromList(row_copy, player1)\n",
    "            print('row_copy value 0: ',row_copy)\n",
    "            nextTurn = row_copy[0]\n",
    "            print('nextTurn: ', nextTurn)\n",
    "            return nextTurn\n",
    "    return nextTurn\n",
    "\n",
    "def setNextTurn():\n",
    "    if( 'E' in fields):\n",
    "        nextTurn = 'E'\n",
    "        print('nextTurn: ', nextTurn)\n",
    "    else: \n",
    "        nextTurn = findDoubleSets()\n",
    "        if not nextTurn:\n",
    "            fields_copy = list(fields)\n",
    "            fields_copy = removeFromList(fields_copy, player1)\n",
    "            if(player2 in fields_copy):\n",
    "                fields_copy = removeFromList(fields_copy, player2)\n",
    "            nextTurn = random.choice(fields_copy)\n",
    "    return nextTurn\n",
    "    \n",
    "def doTurn(field):\n",
    "    if(field in fields):\n",
    "        fields[fields.index(field)] = player1\n",
    "        setTurnToRow(field,player1)\n",
    "        fieldscopy = checkForLastTurn(fields)\n",
    "        if not fieldscopy:\n",
    "            print('GAME OVER')\n",
    "        else:    \n",
    "            nextTurn = setNextTurn()\n",
    "            fields[fields.index(nextTurn)] = player2\n",
    "            setTurnToRow(nextTurn, player2)      \n",
    "    else:\n",
    "        print('No possible selection')\n",
    "                \n",
    "        \n",
    "for i in range(1,5):    \n",
    "    printField()\n",
    "    field = input('Choose field:')\n",
    "    doTurn(field.upper())\n",
    "    \n",
    "\n",
    "    \n",
    "\n",
    "\n"
   ]
  },
  {
   "cell_type": "code",
   "execution_count": null,
   "metadata": {},
   "outputs": [],
   "source": []
  },
  {
   "cell_type": "code",
   "execution_count": null,
   "metadata": {},
   "outputs": [],
   "source": []
  },
  {
   "cell_type": "code",
   "execution_count": null,
   "metadata": {},
   "outputs": [],
   "source": []
  },
  {
   "cell_type": "code",
   "execution_count": null,
   "metadata": {},
   "outputs": [],
   "source": []
  },
  {
   "cell_type": "code",
   "execution_count": null,
   "metadata": {},
   "outputs": [],
   "source": []
  },
  {
   "cell_type": "code",
   "execution_count": null,
   "metadata": {},
   "outputs": [],
   "source": []
  },
  {
   "cell_type": "code",
   "execution_count": null,
   "metadata": {},
   "outputs": [],
   "source": []
  },
  {
   "cell_type": "code",
   "execution_count": null,
   "metadata": {},
   "outputs": [],
   "source": []
  }
 ],
 "metadata": {
  "kernelspec": {
   "display_name": "Python 3",
   "language": "python",
   "name": "python3"
  },
  "language_info": {
   "codemirror_mode": {
    "name": "ipython",
    "version": 3
   },
   "file_extension": ".py",
   "mimetype": "text/x-python",
   "name": "python",
   "nbconvert_exporter": "python",
   "pygments_lexer": "ipython3",
   "version": "3.6.4"
  }
 },
 "nbformat": 4,
 "nbformat_minor": 2
}
