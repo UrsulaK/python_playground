{
 "cells": [
  {
   "cell_type": "markdown",
   "metadata": {},
   "source": [
    "My first Jypiter Notebook"
   ]
  },
  {
   "cell_type": "code",
   "execution_count": 1,
   "metadata": {},
   "outputs": [
    {
     "name": "stdout",
     "output_type": "stream",
     "text": [
      "Hello from Jupyter Notebook\n"
     ]
    }
   ],
   "source": [
    "print('Hello from Jupyter Notebook')"
   ]
  },
  {
   "cell_type": "markdown",
   "metadata": {},
   "source": [
    "Now some more python code"
   ]
  },
  {
   "cell_type": "code",
   "execution_count": 1,
   "metadata": {},
   "outputs": [
    {
     "name": "stdout",
     "output_type": "stream",
     "text": [
      "A | B | C\n",
      "- | - | -\n",
      "D | E | F\n",
      "- | - | -\n",
      "G | H | J\n",
      "Choose field:a\n",
      "x | B | C\n",
      "- | - | -\n",
      "D | o | F\n",
      "- | - | -\n",
      "G | H | J\n",
      "Choose field:c\n",
      "x | o | x\n",
      "- | - | -\n",
      "D | o | F\n",
      "- | - | -\n",
      "G | H | J\n",
      "Choose field:h\n",
      "x | o | x\n",
      "- | - | -\n",
      "D | o | o\n",
      "- | - | -\n",
      "G | x | J\n",
      "Choose field:d\n",
      "x | o | x\n",
      "- | - | -\n",
      "x | o | o\n",
      "- | - | -\n",
      "o | x | J\n",
      "Choose field:j\n",
      "x | o | x\n",
      "- | - | -\n",
      "x | o | o\n",
      "- | - | -\n",
      "o | x | x\n",
      "***THE GAME IS UNDECIDED***\n",
      "***GAME OVER***\n"
     ]
    }
   ],
   "source": [
    "import random\n",
    "fields = ['A','B','C','D','E','F','G','H','J']\n",
    "possibleRows = [['A','B','C'],['D','E','F'],['G','H','J'],['A','E','J'],['A','D','G'],['B','E','H'],['C','F','J'],['C','E','G']]\n",
    "player1 = 'x'\n",
    "player2 = 'o'\n",
    "nextTurn = ''\n",
    "# prints the playing field\n",
    "def printField():\n",
    "    print(fields[0],'|',fields[1],'|',fields[2])\n",
    "    print('-','|','-','|','-')\n",
    "    print(fields[3],'|',fields[4],'|',fields[5])\n",
    "    print('-','|','-','|','-')    \n",
    "    print(fields[6],'|',fields[7],'|',fields[8])\n",
    "# removes item from a list\n",
    "def removeFromList (itemList, item):\n",
    "    while item in itemList: \n",
    "        itemList.remove(item)\n",
    "    return itemList\n",
    "# checks if there are possible turns or last turn\n",
    "def checkIfLastTurn(fields):\n",
    "    fields_copy = list(fields)\n",
    "    fields_copy = removeFromList(fields_copy, player1)\n",
    "    fields_copy = removeFromList(fields_copy, player2)\n",
    "    return fields_copy\n",
    "# checks if there are a winning row\n",
    "def checkIfWinner(player):\n",
    "    for rowidx in range(len(possibleRows)):\n",
    "        row = possibleRows[rowidx]\n",
    "        if(row.count(player) == 3): \n",
    "            return True\n",
    "    return False\n",
    "# setting the turn of one player to the possible rows\n",
    "def setTurnToRow (item, player):\n",
    "    for rowidx in range(len(possibleRows)):\n",
    "        if(item in possibleRows[rowidx]):\n",
    "            possibleRows[rowidx][possibleRows[rowidx].index(item)] = player\n",
    "\n",
    "# finds double settings of one player in one row and returns the item which is left in the row\n",
    "def findDoubleSetsForPlayer(firstPlayer, secondPlayer):\n",
    "    nextTurn = ''\n",
    "    for rowidx in range(len(possibleRows)):\n",
    "        row = possibleRows[rowidx]\n",
    "        if(row.count(firstPlayer) == 2 and not secondPlayer in row):\n",
    "            row_copy = list(row)\n",
    "            row_copy = removeFromList(row_copy, firstPlayer)\n",
    "            nextTurn = row_copy[0]\n",
    "            return nextTurn\n",
    "    return nextTurn\n",
    "# sets the next turn of player 2 (the system)\n",
    "def setNextTurn():\n",
    "    if( 'E' in fields):\n",
    "        nextTurn = 'E'\n",
    "    else: \n",
    "        nextTurn = findDoubleSetsForPlayer(player2, player1)\n",
    "        if not nextTurn:\n",
    "            nextTurn = findDoubleSetsForPlayer(player1, player2)\n",
    "        if not nextTurn:\n",
    "            fields_copy = list(fields)\n",
    "            fields_copy = removeFromList(fields_copy, player1)\n",
    "            if(player2 in fields_copy):\n",
    "                fields_copy = removeFromList(fields_copy, player2)\n",
    "            nextTurn = random.choice(fields_copy)\n",
    "    return nextTurn\n",
    "# doing a whole play turn for both player   \n",
    "def doTurn(field):\n",
    "    if(field in fields):\n",
    "        fields[fields.index(field)] = player1\n",
    "        setTurnToRow(field,player1)\n",
    "        wonPlayer1 = checkIfWinner(player1)\n",
    "        if wonPlayer1:\n",
    "            printField()\n",
    "            print('***CONGRATULATION YOU WON***')\n",
    "            print('***GAME OVER***')\n",
    "            return False\n",
    "        fieldscopy = checkIfLastTurn(fields)\n",
    "        if not fieldscopy:\n",
    "            printField()\n",
    "            print('***THE GAME IS UNDECIDED***')\n",
    "            print('***GAME OVER***')\n",
    "            return False\n",
    "        else:    \n",
    "            nextTurn = setNextTurn()\n",
    "            fields[fields.index(nextTurn)] = player2\n",
    "            setTurnToRow(nextTurn, player2)\n",
    "            wonPlayer2 = checkIfWinner(player2)\n",
    "            if wonPlayer2:\n",
    "                printField()\n",
    "                print('***THE SYSTEM WON***')\n",
    "                print('***GAME OVER***')\n",
    "                return False\n",
    "            return True      \n",
    "    else:\n",
    "        print('No possible selection')\n",
    "        return True  \n",
    "# the game starts         \n",
    "playRuns = True        \n",
    "while(playRuns):    \n",
    "    printField()\n",
    "    field = input('Choose field:')\n",
    "    playRuns = doTurn(field.upper())"
   ]
  },
  {
   "cell_type": "code",
   "execution_count": null,
   "metadata": {},
   "outputs": [],
   "source": []
  },
  {
   "cell_type": "code",
   "execution_count": null,
   "metadata": {},
   "outputs": [],
   "source": []
  },
  {
   "cell_type": "code",
   "execution_count": null,
   "metadata": {},
   "outputs": [],
   "source": []
  },
  {
   "cell_type": "code",
   "execution_count": null,
   "metadata": {},
   "outputs": [],
   "source": []
  },
  {
   "cell_type": "code",
   "execution_count": null,
   "metadata": {},
   "outputs": [],
   "source": []
  },
  {
   "cell_type": "code",
   "execution_count": null,
   "metadata": {},
   "outputs": [],
   "source": []
  },
  {
   "cell_type": "code",
   "execution_count": null,
   "metadata": {},
   "outputs": [],
   "source": []
  }
 ],
 "metadata": {
  "kernelspec": {
   "display_name": "Python 3",
   "language": "python",
   "name": "python3"
  },
  "language_info": {
   "codemirror_mode": {
    "name": "ipython",
    "version": 3
   },
   "file_extension": ".py",
   "mimetype": "text/x-python",
   "name": "python",
   "nbconvert_exporter": "python",
   "pygments_lexer": "ipython3",
   "version": "3.6.4"
  }
 },
 "nbformat": 4,
 "nbformat_minor": 2
}
