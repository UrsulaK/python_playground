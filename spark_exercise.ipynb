{
 "cells": [
  {
   "cell_type": "code",
   "execution_count": 49,
   "metadata": {},
   "outputs": [],
   "source": [
    "from pyspark import SparkContext, SparkConf\n",
    "from operator import add"
   ]
  },
  {
   "cell_type": "code",
   "execution_count": 50,
   "metadata": {},
   "outputs": [],
   "source": [
    "conf = SparkConf().setAppName(\"Word Count\").setMaster(\"local[3]\")\n",
    "sc = SparkContext(conf = conf)"
   ]
  },
  {
   "cell_type": "code",
   "execution_count": 51,
   "metadata": {},
   "outputs": [
    {
     "name": "stdout",
     "output_type": "stream",
     "text": [
      "Number of lines in file : 124201\n"
     ]
    }
   ],
   "source": [
    "lines = sc.textFile(\"shakespeare.txt\")\n",
    "print('Number of lines in file : {}'.format(lines.count()))"
   ]
  },
  {
   "cell_type": "code",
   "execution_count": 52,
   "metadata": {},
   "outputs": [],
   "source": [
    "#words = lines.flatMap(lambda line: lines.split(\" \"))\n",
    "counts = lines.flatMap(lambda x: [(w.lower(), 1) for w in x.split()]).reduceByKey(add)"
   ]
  },
  {
   "cell_type": "code",
   "execution_count": 53,
   "metadata": {},
   "outputs": [
    {
     "data": {
      "text/plain": [
       "[('the', 27484),\n",
       " ('and', 25991),\n",
       " ('i', 19540),\n",
       " ('to', 18656),\n",
       " ('of', 17952),\n",
       " ('a', 14365),\n",
       " ('my', 12455),\n",
       " ('in', 10660),\n",
       " ('you', 10597),\n",
       " ('that', 10473),\n",
       " ('is', 9115),\n",
       " ('for', 7948),\n",
       " ('with', 7923),\n",
       " ('not', 7633),\n",
       " ('your', 6861),\n",
       " ('his', 6749),\n",
       " ('be', 6684),\n",
       " ('he', 5884),\n",
       " ('but', 5881),\n",
       " ('as', 5875),\n",
       " ('this', 5859),\n",
       " ('it', 5858),\n",
       " ('have', 5675),\n",
       " ('thou', 5138)]"
      ]
     },
     "execution_count": 53,
     "metadata": {},
     "output_type": "execute_result"
    }
   ],
   "source": [
    "output = counts.collect()\n",
    "#output.sort(key=lambda x: x[1])\n",
    "output = sorted(output,key=lambda x:(-x[1],x[0]))\n",
    "output[:24]"
   ]
  },
  {
   "cell_type": "code",
   "execution_count": 54,
   "metadata": {},
   "outputs": [],
   "source": [
    "sc.stop()"
   ]
  },
  {
   "cell_type": "code",
   "execution_count": null,
   "metadata": {},
   "outputs": [],
   "source": []
  }
 ],
 "metadata": {
  "kernelspec": {
   "display_name": "Python 3",
   "language": "python",
   "name": "python3"
  },
  "language_info": {
   "codemirror_mode": {
    "name": "ipython",
    "version": 3
   },
   "file_extension": ".py",
   "mimetype": "text/x-python",
   "name": "python",
   "nbconvert_exporter": "python",
   "pygments_lexer": "ipython3",
   "version": "3.6.5"
  }
 },
 "nbformat": 4,
 "nbformat_minor": 2
}
